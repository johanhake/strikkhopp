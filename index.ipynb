{
 "cells": [
  {
   "cell_type": "markdown",
   "metadata": {
    "nbpresent": {
     "id": "67eca5b0-0fd3-4712-acbf-57e1de92808c"
    },
    "slideshow": {
     "slide_type": "slide"
    }
   },
   "source": [
    "# Eksempel på bruk av koding for et strikkhopp #\n",
    "Date: **16.12.2016**\n",
    "\n",
    "Vi skal se på hvordan vi bruker koding for å modellere et strikkhopp. \n",
    "\n",
    "Vi trenger:\n",
    "* enkel programmering (koding)\n",
    "* bevegelseslikningene\n",
    "* Newtons 2e lov. \n"
   ]
  },
  {
   "cell_type": "markdown",
   "metadata": {
    "nbpresent": {
     "id": "808dceee-aa94-4ea9-8de9-a23cb21b6afb"
    },
    "slideshow": {
     "slide_type": "slide"
    }
   },
   "source": [
    "## Modellen\n",
    "Vi skal bruke bevegelseslikningene for å modellere et strikkhopp.\n",
    "\n",
    "$$\n",
    "\\begin{eqnarray}\n",
    "v &=& v_0 t \\tag{1}\\\\\n",
    "x &=& x_0 + v_0 t + \\frac{1}{2}a(x_0, v_0) t^2\\tag{2}\n",
    "\\end{eqnarray}\n",
    "$$\n",
    "\n",
    "* Her er $x_0$, $v_0$ og $a$ posisjonen, farten og akselerasjonen til strikhopperen ved starten av tiden. \n",
    "* Disse likningene er bare gyldige når akselerasjonen er konstant men under et strikkhopp er den ikke det! \n",
    "* Akselerasjonen $a(x_0, v_0)$ er avhengig av $x_0$ og $v_0$. \n",
    "* Hvis vi lar $t$ være litet kan vi anta at $a$ er konstant.\n"
   ]
  },
  {
   "cell_type": "markdown",
   "metadata": {
    "nbpresent": {
     "id": "5bf969e4-90c7-48f4-bd4e-dfe855710409"
    },
    "slideshow": {
     "slide_type": "slide"
    }
   },
   "source": [
    "## Numerisk metode ##\n",
    "Isteden for å finne en funksjon, $x(t)$ for posisjonen og en funksjon $v(t)$ for farten bruker vi en numeriske metode hvor vi finner verdien til $x$ og $v$ på enkelte punkter i tid. \n",
    "* Vi kommer altså å få en liste med verdier som representerer $x$ og $v$ ved bestemte tidspunkt. \n",
    "* Posisjonen og farten i tidssteg $i$ skriver vi: $x[i]$ og $v[i]$.\n",
    "![Lister](lister.svg)"
   ]
  },
  {
   "cell_type": "markdown",
   "metadata": {
    "nbpresent": {
     "id": "b27a8717-7521-454f-b7c5-03afcc274f31"
    },
    "slideshow": {
     "slide_type": "slide"
    }
   },
   "source": [
    "Vi bruker bevegelseslikningene sammen med verdien til posisjonen $x[i]$ og farten $v[i]$ i starten av tidssteget til å finne posisjonen, $x[i+1]$ og farten, $v[i+1]$ i sluttet av tidssteget slik:\n",
    "\n",
    "$$\n",
    "\\begin{eqnarray}\n",
    "v[i+1] &=& v[i] + a(x[i], v[i]) \\Delta t\\tag{3}\\\\\n",
    "x[i+1] &=& x[i] + v[i]\\Delta t + \\frac{1}{2}a(x[i], v[i]) \\Delta t^2\\tag{4}\n",
    "\\end{eqnarray}\n",
    "$$\n",
    "\n",
    "Legg merke til at vi ikke skriver $t$ for tiden men heller størrelsen på tidssteget $\\Delta t$. \n",
    "Dette finner vi gjennom å dele inn tidsintervallet $t \\in [0, T]$ i $N$ like store deler:\n",
    "\n",
    "$$ \\Delta t = \\frac{T}{N}$$\n",
    "\n",
    "Legg også merke til at vi ikke har en liste for akselerasjonen. Vi bruker heller en funksjon som er avhengig av $x[i]$ og $v[i]$."
   ]
  },
  {
   "cell_type": "markdown",
   "metadata": {
    "nbpresent": {
     "id": "a922de30-3c33-4282-bdba-00560db67a7c"
    },
    "slideshow": {
     "slide_type": "slide"
    }
   },
   "source": [
    "## Akselerasjonen ##\n",
    "Akselerasjonen finner vi fra Newtons 2e lov:\n",
    "$$\n",
    "\\begin{equation}\n",
    "\\sum F = m\\cdot a \\tag{3}\n",
    "\\end{equation}\n",
    "$$\n",
    "\n",
    "$$\n",
    "\\begin{equation} \n",
    "a = \\frac{\\sum F}{m}\n",
    "\\tag{4}\n",
    "\\end{equation}\n",
    "$$\n",
    "\n",
    "Summen av kreftene $\\sum F$ er i dette tilfellet lik \n",
    "\n",
    "* gravitasjonen, $G=m\\cdot g$ hvor $m$ er massen til personen og $g$ tyngdens akselerasjon\n",
    "* luftmotstandet $L(v)=-D\\cdot v$ hvor $v$ er hastigheten og $D$ en luftmotstandskonstant\n",
    "* strikkraften, $S(x)=-k\\cdot x$ hvor $x$ er posisjonen og $k$ er en fjærkonstant (strikkonstant) MEN når strikken er slak er S = 0! Strkken er slak når (strikkstart - x) <  lengden på strikken. \n"
   ]
  },
  {
   "cell_type": "markdown",
   "metadata": {
    "nbpresent": {
     "id": "d692046c-80ef-454c-89cf-65252462c19a"
    },
    "slideshow": {
     "slide_type": "slide"
    }
   },
   "source": [
    "<p>Krefter som virker på vår strikkhopper</p>\n",
    "\n",
    "![Krefter](strikkhopp.svg)\n",
    "\n",
    "Vi har altså at akselerasjonen er gitt ved:\n",
    "\n",
    "$$\n",
    "a = \\frac{\\sum F}{m} = \\frac{S(x) - G + L(v)}{m} = \\frac{S(x)}{m}-\\frac{m\\cdot g}{m}+\\frac{-D\\cdot v}{m} = \\frac{S(x)}{m} - g + \\frac{-D\\cdot v}{m}\n",
    "$$\n",
    "I tillegg sier vi at hvis strikken er slak skal $S = 0$.\n"
   ]
  },
  {
   "cell_type": "markdown",
   "metadata": {
    "nbpresent": {
     "id": "19b855a3-f6f3-4976-8b1f-ec7086ed777b"
    },
    "slideshow": {
     "slide_type": "slide"
    }
   },
   "source": [
    "## Krasjkurs i koding ##\n",
    "Før vi kaster oss over koden for strikkhopperen må vi lære oss litt enkel Python [koding](koding.ipynb).\n",
    "\n",
    "## Kode for strikkhopperen ##\n"
   ]
  },
  {
   "cell_type": "code",
   "execution_count": 36,
   "metadata": {
    "nbpresent": {
     "id": "925f756e-c283-4532-93f5-58cf7e53c295"
    },
    "scrolled": true
   },
   "outputs": [
    {
     "data": {
      "image/png": "[encoded data removed]",
      "text/plain": [
       "<matplotlib.figure.Figure at 0x9c55208>"
      ]
     },
     "metadata": {},
     "output_type": "display_data"
    }
   ],
   "source": [
    "# Inline plotting inne i jupyter!\n",
    "%matplotlib inline\n",
    "\n",
    "# Importerer numeriske metoder vi trenger\n",
    "from pylab import *\n",
    "\n",
    "# Parametrar\n",
    "v0 = 0.0    # Utgangsfart\n",
    "x0 = -100     # Utgangshøyde\n",
    "s0 = 0.0    # Strikkfeste\n",
    "            \n",
    "m  = 80.    # Masse\n",
    "g  = 9.81   # Tyngdens akselerasjon\n",
    "k  = 40     # Strikkonstanten\n",
    "D  = 10     # Luftmotstandskonstant\n",
    "sL = 40     # Strikklengde\n",
    "\n",
    "dt = 1e-3   # Tidssteg\n",
    "T  = 60  # Hvor lenge skall simuleringen vare?\n",
    "N = int(ceil(T/dt)) # Lengde på liste \n",
    "\n",
    "# Initialiserer lister av tall som skall ha løsningene. Merk N+1!\n",
    "v = zeros(N+1)\n",
    "x = zeros(N+1)\n",
    "t = zeros(N+1)\n",
    "\n",
    "# Setter første elementet i listene til utgangsfarten og utgangshøyden \n",
    "v[0] = v0\n",
    "x[0] = x0\n",
    "t[0] = 0.0  # Er dette nødvendig?\n",
    "\n",
    "# Funksjon som regner ut strikkraften\n",
    "def S(x):\n",
    "    # Ikke noen kraft hvis strikken er slak!\n",
    "    if abs(s0 - x) < sL:\n",
    "        return 0\n",
    "    else:\n",
    "        return -k*x\n",
    "\n",
    "# Funksjon som regner ut akselerasjonen.\n",
    "def a(x, v):\n",
    "    return S(x)/m - g - D*v/m\n",
    "\n",
    "# Algoritmen for å løse for hvert tidssteg\n",
    "for i in range(N):\n",
    "    t[i+1] = dt*i\n",
    "    v[i+1] = v[i] + a(x[i], v[i])*dt\n",
    "    x[i+1] = x[i] + v[i]*dt + 0.5*a(x[i], v[i])*dt**2\n",
    "\n",
    "# Plotter posisjonen\n",
    "plot(t, x)\n",
    "grid()\n",
    "show()"
   ]
  },
  {
   "cell_type": "code",
   "execution_count": null,
   "metadata": {
    "collapsed": true,
    "nbpresent": {
     "id": "8a616aa5-c8b5-4752-b9ea-f3d152fd9154"
    }
   },
   "outputs": [],
   "source": []
  }
 ],
 "metadata": {
  "anaconda-cloud": {},
  "kernelspec": {
   "display_name": "Python 2",
   "language": "python",
   "name": "python2"
  },
  "language_info": {
   "codemirror_mode": {
    "name": "ipython",
    "version": 2
   },
   "file_extension": ".py",
   "mimetype": "text/x-python",
   "name": "python",
   "nbconvert_exporter": "python",
   "pygments_lexer": "ipython2",
   "version": "2.7.14"
  },
  "nbpresent": {
   "slides": {
    "23065aaf-2347-4b74-ae57-ead9e36602bb": {
     "id": "23065aaf-2347-4b74-ae57-ead9e36602bb",
     "layout": "grid",
     "prev": "a3735128-0d03-4239-9673-a0288efb4b5c",
     "regions": {
      "57653358-a6fa-45a9-9672-825db51ebf07": {
       "attrs": {
        "height": 1,
        "pad": 0.01,
        "treemap:weight": 1,
        "width": 1,
        "x": 0,
        "y": 0
       },
       "content": {
        "cell": "a922de30-3c33-4282-bdba-00560db67a7c",
        "part": "whole"
       },
       "id": "57653358-a6fa-45a9-9672-825db51ebf07"
      }
     },
     "theme": null
    },
    "27c7b917-b8da-4a59-a189-4e086217c5a5": {
     "id": "27c7b917-b8da-4a59-a189-4e086217c5a5",
     "prev": "3cd54793-4a62-440b-95ed-885ad444a001",
     "regions": {
      "2f930c7c-309c-4ba5-9713-d9d718e42bf9": {
       "attrs": {
        "height": 0.8,
        "width": 0.8,
        "x": 0.1,
        "y": 0.1
       },
       "content": {
        "cell": "b27a8717-7521-454f-b7c5-03afcc274f31",
        "part": "source"
       },
       "id": "2f930c7c-309c-4ba5-9713-d9d718e42bf9"
      }
     }
    },
    "3081def4-ea7f-4bcf-a049-d684ecc9cc21": {
     "id": "3081def4-ea7f-4bcf-a049-d684ecc9cc21",
     "prev": "c1369ef3-b9f6-498b-8152-8cae8aa058e1",
     "regions": {
      "64c18bda-c921-422e-a596-4faa8f59c44c": {
       "attrs": {
        "height": 1,
        "width": 1,
        "x": 0,
        "y": 0
       },
       "content": {
        "cell": "19b855a3-f6f3-4976-8b1f-ec7086ed777b",
        "part": "source"
       },
       "id": "64c18bda-c921-422e-a596-4faa8f59c44c"
      }
     }
    },
    "3cd54793-4a62-440b-95ed-885ad444a001": {
     "id": "3cd54793-4a62-440b-95ed-885ad444a001",
     "prev": "3081def4-ea7f-4bcf-a049-d684ecc9cc21",
     "regions": {
      "dd37926b-2926-4346-961c-9260cc03a2b6": {
       "attrs": {
        "height": 0.8,
        "width": 0.8,
        "x": 0.1,
        "y": 0.1
       },
       "content": {
        "cell": "5bf969e4-90c7-48f4-bd4e-dfe855710409",
        "part": "source"
       },
       "id": "dd37926b-2926-4346-961c-9260cc03a2b6"
      }
     }
    },
    "88801177-94e9-43ae-8ff9-7acd9b193f52": {
     "id": "88801177-94e9-43ae-8ff9-7acd9b193f52",
     "prev": null,
     "regions": {
      "b9a8b65d-93e2-433b-98d7-4cda161d98e5": {
       "attrs": {
        "height": 0.8,
        "width": 0.8,
        "x": 0.1,
        "y": 0.1
       },
       "content": {
        "cell": "67eca5b0-0fd3-4712-acbf-57e1de92808c",
        "part": "source"
       },
       "id": "b9a8b65d-93e2-433b-98d7-4cda161d98e5"
      }
     }
    },
    "a3735128-0d03-4239-9673-a0288efb4b5c": {
     "id": "a3735128-0d03-4239-9673-a0288efb4b5c",
     "prev": "88801177-94e9-43ae-8ff9-7acd9b193f52",
     "regions": {
      "6f7c5c45-0e41-43c9-b600-5ab1362c95a8": {
       "attrs": {
        "height": 0.8,
        "width": 0.8,
        "x": 0.1,
        "y": 0.1
       },
       "content": {
        "cell": "808dceee-aa94-4ea9-8de9-a23cb21b6afb",
        "part": "source"
       },
       "id": "6f7c5c45-0e41-43c9-b600-5ab1362c95a8"
      }
     }
    },
    "c1369ef3-b9f6-498b-8152-8cae8aa058e1": {
     "id": "c1369ef3-b9f6-498b-8152-8cae8aa058e1",
     "prev": "23065aaf-2347-4b74-ae57-ead9e36602bb",
     "regions": {
      "f63aba71-b66a-4a23-99df-c260758420e6": {
       "attrs": {
        "height": 0.8,
        "width": 0.8,
        "x": 0.1,
        "y": 0.1
       },
       "content": {
        "cell": "d692046c-80ef-454c-89cf-65252462c19a",
        "part": "whole"
       },
       "id": "f63aba71-b66a-4a23-99df-c260758420e6"
      }
     }
    }
   },
   "themes": {
    "default": "63b0e172-6664-4145-a587-778312c30723",
    "theme": {}
   }
  }
 },
 "nbformat": 4,
 "nbformat_minor": 1
}
