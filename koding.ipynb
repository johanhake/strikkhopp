{
 "cells": [
  {
   "cell_type": "markdown",
   "metadata": {},
   "source": [
    "## Krasjkurs i koding ##\n",
    "For å kunne skjønne koden for [strikkhopperen](index.ipynb) må vi lære oss litt om 4 ulike programmeringsbegreper: \n",
    "1. variabler og lister\n",
    "2. løkker\n",
    "3. if tester\n",
    "4. funksjoner\n",
    "\n",
    "### Variabler og lister ###\n",
    "En variabel kjenner vi fra GeoGebra. Det er et symbol $a, b, T$ (eller lenger navn *slutt_tid*, *kraft*) som har en verdi som kan forandre seg. Skriptet under illustrerer bruk av variabler. Trykk Shift-Enter for å kjøre det. "
   ]
  },
  {
   "cell_type": "code",
   "execution_count": 2,
   "metadata": {},
   "outputs": [
    {
     "name": "stdout",
     "output_type": "stream",
     "text": [
      "Verdien til c: 4.0\n",
      "Verdiene til d: [ 6.   0.   0.   0.   0.   0.   0.   0.   0.   1.5]\n"
     ]
    }
   ],
   "source": [
    "from pylab import * # Vi importerer noen kommando vi trenger\n",
    "a = 6   # a er en variabel som har verdien 6\n",
    "b = 1.5 # b er en variabel som har verdien 1.5\n",
    "c = a/b # c er en variabel som har verdien a/b altså 4\n",
    "\n",
    "d = zeros(10) # d er en list med 10 verdier. Hver har verdien 0\n",
    "d[0] = a # Vi gir den første verdien i listen verdien a (6)\n",
    "d[9] = b # Vi gir den siste verdien i listen verdien b (1.5)\n",
    "\n",
    "# Vi printer ut verdiene til noen variabler\n",
    "print \"Verdien til c:\", c\n",
    "print \"Verdiene til d:\", d "
   ]
  },
  {
   "cell_type": "markdown",
   "metadata": {},
   "source": [
    "### Løkker ###\n",
    "Løkker bruker vi til å kjøre samme kode mange ganger. Med en så kalled for-løkke får vi også en tellevariabel som økes med 1 for hver gang koden kjøres."
   ]
  },
  {
   "cell_type": "code",
   "execution_count": 7,
   "metadata": {},
   "outputs": [
    {
     "name": "stdout",
     "output_type": "stream",
     "text": [
      "i: 0 d[i]: 0.0\n",
      "i: 1 d[i]: 6.0\n",
      "i: 2 d[i]: 12.0\n",
      "i: 3 d[i]: 18.0\n",
      "i: 4 d[i]: 24.0\n",
      "i: 5 d[i]: 30.0\n",
      "i: 6 d[i]: 36.0\n",
      "i: 7 d[i]: 42.0\n",
      "i: 8 d[i]: 48.0\n",
      "i: 9 d[i]: 54.0\n"
     ]
    }
   ],
   "source": [
    "for i in range(10):\n",
    "    d[i] = i*a # Gir de ulike delene i listen nye verdier\n",
    "    print \"i:\", i, \"d[i]:\", d[i]"
   ]
  },
  {
   "cell_type": "markdown",
   "metadata": {},
   "source": [
    "### If tester ###\n",
    "If tester er gir oss mulighet å kjøre en del av et program hvis noe er sant og en annen del hvis det ikke er sant."
   ]
  },
  {
   "cell_type": "code",
   "execution_count": 8,
   "metadata": {},
   "outputs": [
    {
     "name": "stdout",
     "output_type": "stream",
     "text": [
      "d[i] er mindre enn eller lik 30\n",
      "d[i] er mindre enn eller lik 30\n",
      "d[i] er mindre enn eller lik 30\n",
      "d[i] er mindre enn eller lik 30\n",
      "d[i] er mindre enn eller lik 30\n",
      "d[i] er mindre enn eller lik 30\n",
      "d[i] er større enn 30\n",
      "d[i] er større enn 30\n",
      "d[i] er større enn 30\n",
      "d[i] er større enn 30\n"
     ]
    }
   ],
   "source": [
    "for i in range(10):\n",
    "    if d[i] > 30:\n",
    "        print \"d[i] er større enn 30\"\n",
    "    else:\n",
    "        print \"d[i] er mindre enn eller lik 30\""
   ]
  },
  {
   "cell_type": "markdown",
   "metadata": {},
   "source": [
    "### Funksjoner ###\n",
    "Funksjoner bruker vi til å \"gjemme\" kode. En funksjon kan ta variabler og gjøre noe med de og så kan de også returne verdier:"
   ]
  },
  {
   "cell_type": "code",
   "execution_count": 12,
   "metadata": {},
   "outputs": [
    {
     "name": "stdout",
     "output_type": "stream",
     "text": [
      "summen av listen er: 270.0\n",
      "summen av listen er: 50.8013833599\n",
      "summen av listen er: 46.340519915\n"
     ]
    }
   ],
   "source": [
    "# En funksjon som tar en liste som variabel og summerer verdiene i listen\n",
    "# Merk at listens navn alltid er 'liste' inne i funksjonen\n",
    "def summer(liste):\n",
    "    summen = 0                # Ny variabel som holder summen i listen\n",
    "    liste_lengde = len(liste) # Lengden til listen kan vi hente ut gjennom funksjonern len()\n",
    "    for i in range(liste_lengde):\n",
    "        summen = summen + liste[i]  # Legger sammen tallene i en liste\n",
    "    return summen  # Returnerer summen\n",
    "\n",
    "print \"summen av listen er:\", summer(d)\n",
    "\n",
    "nyliste = rand(100)  # Lager en ny liste med 100 tilfeldige tall mellom 0 og 1\n",
    "print \"summen av listen er:\", summer(nyliste)\n",
    "\n",
    "enda_en_nyliste = rand(100)  # Lager enda en ny liste med 100 tilfeldige tall mellom 0 og 1\n",
    "print \"summen av listen er:\", summer(enda_en_nyliste)\n"
   ]
  },
  {
   "cell_type": "markdown",
   "metadata": {},
   "source": [
    "###  Tilbake til strikkhopperen ###\n",
    "Du kan nå gå tilbake til [strikkhoppere](index.ipynb) og løse modellen for ulike parametrer."
   ]
  }
 ],
 "metadata": {
  "anaconda-cloud": {},
  "celltoolbar": "Raw Cell Format",
  "kernelspec": {
   "display_name": "Python 2",
   "language": "python",
   "name": "python2"
  },
  "language_info": {
   "codemirror_mode": {
    "name": "ipython",
    "version": 2
   },
   "file_extension": ".py",
   "mimetype": "text/x-python",
   "name": "python",
   "nbconvert_exporter": "python",
   "pygments_lexer": "ipython2",
   "version": "2.7.14"
  },
  "nbpresent": {
   "slides": {
    "23065aaf-2347-4b74-ae57-ead9e36602bb": {
     "id": "23065aaf-2347-4b74-ae57-ead9e36602bb",
     "layout": "grid",
     "prev": "a3735128-0d03-4239-9673-a0288efb4b5c",
     "regions": {
      "57653358-a6fa-45a9-9672-825db51ebf07": {
       "attrs": {
        "height": 1,
        "pad": 0.01,
        "treemap:weight": 1,
        "width": 1,
        "x": 0,
        "y": 0
       },
       "content": {
        "cell": "1607fa56-2597-4ca5-8f4d-9a77b2207dac",
        "part": "whole"
       },
       "id": "57653358-a6fa-45a9-9672-825db51ebf07"
      },
      "6cb4ad0f-d847-4cf7-8ff4-e34f882e904e": {
       "attrs": {
        "height": 0.8333333333333334,
        "pad": 0.01,
        "width": 0.8333333333333334,
        "x": 0.08333333333333333,
        "y": 0.08333333333333333
       },
       "id": "6cb4ad0f-d847-4cf7-8ff4-e34f882e904e"
      },
      "e69ac7c9-bacc-4051-91ba-35a715025e7e": {
       "attrs": {
        "height": 0.8333333333333334,
        "pad": 0.01,
        "width": 0.8333333333333334,
        "x": 0.08333333333333333,
        "y": 0.08333333333333333
       },
       "id": "e69ac7c9-bacc-4051-91ba-35a715025e7e"
      }
     },
     "theme": null
    },
    "27c7b917-b8da-4a59-a189-4e086217c5a5": {
     "id": "27c7b917-b8da-4a59-a189-4e086217c5a5",
     "prev": "3cd54793-4a62-440b-95ed-885ad444a001",
     "regions": {
      "2f930c7c-309c-4ba5-9713-d9d718e42bf9": {
       "attrs": {
        "height": 0.8,
        "width": 0.8,
        "x": 0.1,
        "y": 0.1
       },
       "content": {
        "cell": "8a616aa5-c8b5-4752-b9ea-f3d152fd9154",
        "part": "whole"
       },
       "id": "2f930c7c-309c-4ba5-9713-d9d718e42bf9"
      }
     }
    },
    "30af36cd-e1fa-4855-9a3b-821febefe92b": {
     "id": "30af36cd-e1fa-4855-9a3b-821febefe92b",
     "prev": "4651085a-3f48-4431-ab78-2479eb6e9896",
     "regions": {
      "ec246a5a-929f-4501-8e92-86d7de918af7": {
       "attrs": {
        "height": 0.8,
        "width": 0.8,
        "x": 0.1,
        "y": 0.1
       },
       "content": {
        "cell": "19b855a3-f6f3-4976-8b1f-ec7086ed777b",
        "part": "whole"
       },
       "id": "ec246a5a-929f-4501-8e92-86d7de918af7"
      }
     }
    },
    "3cd54793-4a62-440b-95ed-885ad444a001": {
     "id": "3cd54793-4a62-440b-95ed-885ad444a001",
     "prev": "30af36cd-e1fa-4855-9a3b-821febefe92b",
     "regions": {
      "dd37926b-2926-4346-961c-9260cc03a2b6": {
       "attrs": {
        "height": 0.8,
        "width": 0.8,
        "x": 0.1,
        "y": 0.1
       },
       "content": {
        "cell": "925f756e-c283-4532-93f5-58cf7e53c295",
        "part": "whole"
       },
       "id": "dd37926b-2926-4346-961c-9260cc03a2b6"
      }
     }
    },
    "4651085a-3f48-4431-ab78-2479eb6e9896": {
     "id": "4651085a-3f48-4431-ab78-2479eb6e9896",
     "prev": "c1369ef3-b9f6-498b-8152-8cae8aa058e1",
     "regions": {
      "6bee101e-8bff-4bd7-92cc-5163881b03c3": {
       "attrs": {
        "height": 0.8,
        "width": 0.8,
        "x": 0.1,
        "y": 0.1
       },
       "content": {
        "cell": "84c771e2-0a7c-4fdb-a5fe-7a0468066e25",
        "part": "whole"
       },
       "id": "6bee101e-8bff-4bd7-92cc-5163881b03c3"
      }
     }
    },
    "88801177-94e9-43ae-8ff9-7acd9b193f52": {
     "id": "88801177-94e9-43ae-8ff9-7acd9b193f52",
     "prev": null,
     "regions": {
      "b9a8b65d-93e2-433b-98d7-4cda161d98e5": {
       "attrs": {
        "height": 0.8,
        "width": 0.8,
        "x": 0.1,
        "y": 0.1
       },
       "content": {
        "cell": "808dceee-aa94-4ea9-8de9-a23cb21b6afb",
        "part": "whole"
       },
       "id": "b9a8b65d-93e2-433b-98d7-4cda161d98e5"
      }
     }
    },
    "a3735128-0d03-4239-9673-a0288efb4b5c": {
     "id": "a3735128-0d03-4239-9673-a0288efb4b5c",
     "prev": "88801177-94e9-43ae-8ff9-7acd9b193f52",
     "regions": {
      "6f7c5c45-0e41-43c9-b600-5ab1362c95a8": {
       "attrs": {
        "height": 0.8,
        "width": 0.8,
        "x": 0.1,
        "y": 0.1
       },
       "content": {
        "cell": "a922de30-3c33-4282-bdba-00560db67a7c",
        "part": "whole"
       },
       "id": "6f7c5c45-0e41-43c9-b600-5ab1362c95a8"
      }
     }
    },
    "c1369ef3-b9f6-498b-8152-8cae8aa058e1": {
     "id": "c1369ef3-b9f6-498b-8152-8cae8aa058e1",
     "prev": "23065aaf-2347-4b74-ae57-ead9e36602bb",
     "regions": {
      "f63aba71-b66a-4a23-99df-c260758420e6": {
       "attrs": {
        "height": 0.8,
        "width": 0.8,
        "x": 0.1,
        "y": 0.1
       },
       "content": {
        "cell": "d692046c-80ef-454c-89cf-65252462c19a",
        "part": "whole"
       },
       "id": "f63aba71-b66a-4a23-99df-c260758420e6"
      }
     }
    }
   },
   "themes": {
    "default": "63b0e172-6664-4145-a587-778312c30723",
    "theme": {}
   }
  }
 },
 "nbformat": 4,
 "nbformat_minor": 1
}
